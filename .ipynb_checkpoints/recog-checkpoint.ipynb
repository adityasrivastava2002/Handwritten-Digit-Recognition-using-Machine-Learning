{
 "cells": [
  {
   "cell_type": "code",
   "execution_count": 10,
   "id": "22cc0bae",
   "metadata": {},
   "outputs": [],
   "source": [
    "import keras\n",
    "from keras.datasets import mnist\n",
    "from keras.models import Sequential\n",
    "from keras.layers import Dense \n",
    "from keras.layers import Dropout\n",
    "from keras.layers import Flatten\n",
    "from keras.layers import Conv2D\n",
    "from keras.layers import MaxPooling2D\n",
    "from keras import backend as K\n",
    "#  to split the data of training and testing sets\n",
    "(x_train, y_train), (x_test, y_test) = mnist.load_data()"
   ]
  },
  {
   "cell_type": "code",
   "execution_count": 11,
   "id": "0ba4dca8",
   "metadata": {},
   "outputs": [],
   "source": [
    "x_train = x_train.reshape(x_train.shape[0], 28, 28, 1)\n",
    "x_test = x_test.reshape(x_test.shape[0], 28, 28, 1)\n",
    "input_shape = (28, 28, 1)\n",
    "# conversion of class vectors to matrices of  binary class \n",
    "y_train = keras.utils.to_categorical(y_train, num_classes)\n",
    "y_test = keras.utils.to_categorical(y_test, num_classes)\n",
    "x_train = x_train.astype('float32')\n",
    "x_test = x_test.astype('float32')\n",
    "x_train /= 255\n",
    "x_test /= 255\n"
   ]
  },
  {
   "cell_type": "code",
   "execution_count": 12,
   "id": "7f2aa79e",
   "metadata": {},
   "outputs": [],
   "source": [
    "batch_size = 128\n",
    "num_classes = 10\n",
    "epochs = 10\n",
    "model = Sequential()\n",
    "model.add(Conv2D(32, kernel_size=(3, 3),activation='relu',input_shape=input_shape))\n",
    "model.add(Conv2D(64, (3, 3), activation='relu'))\n",
    "model.add(MaxPooling2D(pool_size=(2, 2)))\n",
    "model.add(Dropout(0.25))\n",
    "model.add(Flatten())\n",
    "model.add(Dense(256, activation='relu'))\n",
    "model.add(Dropout(0.5))\n",
    "model.add(Dense(num_classes, activation='softmax'))\n",
    "model.compile(loss=keras.losses.categorical_crossentropy,optimizer=keras.optimizers.Adadelta(),metrics=['accuracy'])"
   ]
  },
  {
   "cell_type": "code",
   "execution_count": 13,
   "id": "a27c6bd6",
   "metadata": {},
   "outputs": [
    {
     "name": "stdout",
     "output_type": "stream",
     "text": [
      "Epoch 1/10\n",
      "469/469 [==============================] - 74s 148ms/step - loss: 2.2851 - accuracy: 0.1359 - val_loss: 2.2536 - val_accuracy: 0.3208\n",
      "Epoch 2/10\n",
      "469/469 [==============================] - 73s 156ms/step - loss: 2.2322 - accuracy: 0.2636 - val_loss: 2.1884 - val_accuracy: 0.5904\n",
      "Epoch 3/10\n",
      "469/469 [==============================] - 67s 143ms/step - loss: 2.1623 - accuracy: 0.4040 - val_loss: 2.0978 - val_accuracy: 0.7112\n",
      "Epoch 4/10\n",
      "469/469 [==============================] - 67s 142ms/step - loss: 2.0627 - accuracy: 0.5085 - val_loss: 1.9659 - val_accuracy: 0.7565\n",
      "Epoch 5/10\n",
      "469/469 [==============================] - 67s 143ms/step - loss: 1.9193 - accuracy: 0.5777 - val_loss: 1.7795 - val_accuracy: 0.7737\n",
      "Epoch 6/10\n",
      "469/469 [==============================] - 69s 146ms/step - loss: 1.7263 - accuracy: 0.6199 - val_loss: 1.5378 - val_accuracy: 0.7863\n",
      "Epoch 7/10\n",
      "469/469 [==============================] - 68s 144ms/step - loss: 1.5021 - accuracy: 0.6558 - val_loss: 1.2761 - val_accuracy: 0.7972\n",
      "Epoch 8/10\n",
      "469/469 [==============================] - 67s 144ms/step - loss: 1.2896 - accuracy: 0.6811 - val_loss: 1.0498 - val_accuracy: 0.8112\n",
      "Epoch 9/10\n",
      "469/469 [==============================] - 72s 154ms/step - loss: 1.1202 - accuracy: 0.7010 - val_loss: 0.8814 - val_accuracy: 0.8242\n",
      "Epoch 10/10\n",
      "469/469 [==============================] - 71s 151ms/step - loss: 0.9931 - accuracy: 0.7220 - val_loss: 0.7633 - val_accuracy: 0.8356\n",
      "The model has successfully trained\n",
      "Saving the bot as mnist.h5\n"
     ]
    }
   ],
   "source": [
    "hist = model.fit(x_train, y_train,batch_size=batch_size,epochs=epochs,verbose=1,validation_data=(x_test, y_test))\n",
    "print(\"The model has successfully trained\")\n",
    "model.save('mnist.h5')\n",
    "print(\"Saving the bot as mnist.h5\")"
   ]
  },
  {
   "cell_type": "code",
   "execution_count": 14,
   "id": "b3a18509",
   "metadata": {},
   "outputs": [
    {
     "name": "stdout",
     "output_type": "stream",
     "text": [
      "Test loss: 0.7633117437362671\n",
      "Test accuracy: 0.8356000185012817\n"
     ]
    }
   ],
   "source": [
    "score = model.evaluate(x_test, y_test, verbose=0)\n",
    "print('Test loss:', score[0])\n",
    "print('Test accuracy:', score[1])"
   ]
  },
  {
   "cell_type": "code",
   "execution_count": null,
   "id": "f0d5928a",
   "metadata": {},
   "outputs": [],
   "source": []
  }
 ],
 "metadata": {
  "kernelspec": {
   "display_name": "Python 3 (ipykernel)",
   "language": "python",
   "name": "python3"
  },
  "language_info": {
   "codemirror_mode": {
    "name": "ipython",
    "version": 3
   },
   "file_extension": ".py",
   "mimetype": "text/x-python",
   "name": "python",
   "nbconvert_exporter": "python",
   "pygments_lexer": "ipython3",
   "version": "3.10.5"
  }
 },
 "nbformat": 4,
 "nbformat_minor": 5
}
