{
 "cells": [
  {
   "cell_type": "code",
   "execution_count": 2,
   "id": "22cc0bae",
   "metadata": {},
   "outputs": [],
   "source": [
    "import keras\n",
    "from keras.datasets import mnist\n",
    "from keras.models import Sequential\n",
    "from keras.layers import Dense \n",
    "from keras.layers import Dropout\n",
    "from keras.layers import Flatten\n",
    "from keras.layers import Conv2D\n",
    "from keras.layers import MaxPooling2D\n",
    "from keras import backend as K\n",
    "import numpy as np\n",
    "import cv2\n",
    "import matplotlib.pyplot as plt\n",
    "#  to split the data of training and testing sets\n",
    "(x_train, y_train), (x_test, y_test) = mnist.load_data()"
   ]
  },
  {
   "cell_type": "code",
   "execution_count": 2,
   "id": "0ba4dca8",
   "metadata": {},
   "outputs": [],
   "source": [
    "x_train = x_train.reshape(x_train.shape[0], 28, 28, 1)\n",
    "x_test = x_test.reshape(x_test.shape[0], 28, 28, 1)\n",
    "input_shape = (28, 28, 1)\n",
    "# conversion of class vectors to matrices of  binary class \n",
    "y_train = keras.utils.to_categorical(y_train)\n",
    "y_test = keras.utils.to_categorical(y_test)\n",
    "x_train = x_train.astype('float32')\n",
    "x_test = x_test.astype('float32')\n",
    "x_train /= 255\n",
    "x_test /= 255"
   ]
  },
  {
   "cell_type": "code",
   "execution_count": 3,
   "id": "7f2aa79e",
   "metadata": {},
   "outputs": [],
   "source": [
    "batch_size = 128\n",
    "num_classes = 10\n",
    "epochs = 10\n",
    "model = Sequential()\n",
    "model.add(Conv2D(32, kernel_size=(3, 3),activation='relu',input_shape=input_shape))\n",
    "model.add(MaxPooling2D(pool_size=(2, 2)))\n",
    "model.add(Conv2D(64, (3, 3), activation='relu'))\n",
    "\n",
    "model.add(Flatten())\n",
    "model.add(Dense(256, activation='relu'))\n",
    "model.add(Dropout(0.5))\n",
    "model.add(Dense(num_classes, activation='softmax'))\n",
    "model.compile(loss=keras.losses.categorical_crossentropy,optimizer='adam',metrics=['accuracy'])"
   ]
  },
  {
   "cell_type": "code",
   "execution_count": 10,
   "id": "a27c6bd6",
   "metadata": {},
   "outputs": [
    {
     "name": "stdout",
     "output_type": "stream",
     "text": [
      "Epoch 1/10\n",
      "469/469 [==============================] - 40s 84ms/step - loss: 0.0114 - accuracy: 0.9961 - val_loss: 0.0267 - val_accuracy: 0.9920\n",
      "Epoch 2/10\n",
      "469/469 [==============================] - 40s 85ms/step - loss: 0.0098 - accuracy: 0.9966 - val_loss: 0.0260 - val_accuracy: 0.9916\n",
      "Epoch 3/10\n",
      "469/469 [==============================] - 41s 87ms/step - loss: 0.0095 - accuracy: 0.9967 - val_loss: 0.0320 - val_accuracy: 0.9913\n",
      "Epoch 4/10\n",
      "469/469 [==============================] - 40s 85ms/step - loss: 0.0086 - accuracy: 0.9971 - val_loss: 0.0267 - val_accuracy: 0.9932\n",
      "Epoch 5/10\n",
      "469/469 [==============================] - 39s 84ms/step - loss: 0.0093 - accuracy: 0.9970 - val_loss: 0.0261 - val_accuracy: 0.9926\n",
      "Epoch 6/10\n",
      "469/469 [==============================] - 40s 84ms/step - loss: 0.0073 - accuracy: 0.9975 - val_loss: 0.0282 - val_accuracy: 0.9919\n",
      "Epoch 7/10\n",
      "469/469 [==============================] - 39s 83ms/step - loss: 0.0074 - accuracy: 0.9977 - val_loss: 0.0316 - val_accuracy: 0.9913\n",
      "Epoch 8/10\n",
      "469/469 [==============================] - 40s 85ms/step - loss: 0.0046 - accuracy: 0.9984 - val_loss: 0.0319 - val_accuracy: 0.9924\n",
      "Epoch 9/10\n",
      "469/469 [==============================] - 42s 89ms/step - loss: 0.0071 - accuracy: 0.9975 - val_loss: 0.0274 - val_accuracy: 0.9925\n",
      "Epoch 10/10\n",
      "469/469 [==============================] - 41s 88ms/step - loss: 0.0043 - accuracy: 0.9985 - val_loss: 0.0328 - val_accuracy: 0.9929\n",
      "The model has successfully trained\n",
      "Saving the bot as mnist.h5\n"
     ]
    }
   ],
   "source": [
    "hist = model.fit(x_train, y_train,batch_size=batch_size,epochs=epochs,verbose=1,validation_data=(x_test, y_test))\n",
    "print(\"The model has successfully trained\")\n",
    "model.save('mnist.h5')\n",
    "print(\"Saving the bot as mnist.h5\")"
   ]
  },
  {
   "cell_type": "code",
   "execution_count": 11,
   "id": "b3a18509",
   "metadata": {},
   "outputs": [
    {
     "name": "stdout",
     "output_type": "stream",
     "text": [
      "Test loss: 0.03275378420948982\n",
      "Test accuracy: 0.992900013923645\n"
     ]
    }
   ],
   "source": [
    "score = model.evaluate(x_test, y_test, verbose=0)\n",
    "print('Test loss:', score[0])\n",
    "print('Test accuracy:', score[1])"
   ]
  },
  {
   "cell_type": "code",
   "execution_count": 12,
   "id": "536c1b42",
   "metadata": {
    "scrolled": false
   },
   "outputs": [
    {
     "name": "stdout",
     "output_type": "stream",
     "text": [
      "313/313 [==============================] - 3s 10ms/step\n"
     ]
    }
   ],
   "source": [
    "finalArray = np.argmax(model.predict(x_test), axis=-1)"
   ]
  },
  {
   "cell_type": "code",
   "execution_count": 13,
   "id": "291affba",
   "metadata": {},
   "outputs": [
    {
     "name": "stdout",
     "output_type": "stream",
     "text": [
      "[7 2 1 ... 4 5 6]\n"
     ]
    }
   ],
   "source": [
    "print(finalArray)"
   ]
  },
  {
   "cell_type": "code",
   "execution_count": 3,
   "id": "1a702d31",
   "metadata": {
    "scrolled": true
   },
   "outputs": [
    {
     "data": {
      "text/plain": [
       "<matplotlib.image.AxesImage at 0x1508dd68040>"
      ]
     },
     "execution_count": 3,
     "metadata": {},
     "output_type": "execute_result"
    },
    {
     "data": {
      "image/png": "[encoded data removed]",
      "text/plain": [
       "<Figure size 432x288 with 1 Axes>"
      ]
     },
     "metadata": {
      "needs_background": "light"
     },
     "output_type": "display_data"
    }
   ],
   "source": [
    "plt.imshow(x_test[0], cmap='binary')"
   ]
  },
  {
   "cell_type": "code",
   "execution_count": 1,
   "id": "9e6a9329",
   "metadata": {},
   "outputs": [
    {
     "ename": "IndentationError",
     "evalue": "unexpected indent (4072575711.py, line 16)",
     "output_type": "error",
     "traceback": [
      "\u001b[1;36m  Input \u001b[1;32mIn [1]\u001b[1;36m\u001b[0m\n\u001b[1;33m    pred = model.predict(image.reshape(1, 28, 28, 1), batch_size=1)\u001b[0m\n\u001b[1;37m    ^\u001b[0m\n\u001b[1;31mIndentationError\u001b[0m\u001b[1;31m:\u001b[0m unexpected indent\n"
     ]
    }
   ],
   "source": [
    "# from keras.models import load_model\n",
    "# model2=keras.models.load_model(\"offlineModel.h5py\")\n",
    "#this is how we load the already saved model\n",
    "# model2.evaluate(X_test,y_test)\n",
    "\n",
    "model = keras.models.load_model(\"mnist.h5\")\n",
    "img = st.file_uploader(\"please enter an image\")\n",
    "# # model.evaluate(X_test, y_test)\n",
    "\n",
    "# image = cv2.imread(file, cv2.IMREAD_GRAYSCALE)\n",
    "# image = cv2.resize(image, (28,28))\n",
    "# image = 255-image          #inverts image. Always gets read inverted.\n",
    "\n",
    "# plt.imshow(image.reshape(28, 28),cmap='Greys')\n",
    "# plt.show()\n",
    " pred = model.predict(image.reshape(1, 28, 28, 1), batch_size=1)\n",
    "\n",
    "# print(pred.argmax())"
   ]
  },
  {
   "cell_type": "code",
   "execution_count": null,
   "id": "af388e79",
   "metadata": {},
   "outputs": [],
   "source": []
  }
 ],
 "metadata": {
  "kernelspec": {
   "display_name": "Python 3 (ipykernel)",
   "language": "python",
   "name": "python3"
  },
  "language_info": {
   "codemirror_mode": {
    "name": "ipython",
    "version": 3
   },
   "file_extension": ".py",
   "mimetype": "text/x-python",
   "name": "python",
   "nbconvert_exporter": "python",
   "pygments_lexer": "ipython3",
   "version": "3.10.5"
  },
  "vscode": {
   "interpreter": {
    "hash": "0585ab582f4a2aaee36fc90d6bf8f5cfbae266ba6d512fc2b11359b6887e160b"
   }
  }
 },
 "nbformat": 4,
 "nbformat_minor": 5
}
